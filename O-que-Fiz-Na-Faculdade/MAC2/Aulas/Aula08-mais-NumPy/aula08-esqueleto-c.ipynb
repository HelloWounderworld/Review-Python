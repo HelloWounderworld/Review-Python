{
 "cells": [
  {
   "cell_type": "markdown",
   "metadata": {},
   "source": [
    "# Exercício\n",
    "\n",
    "Escreva uma função `fliplr` que recebe um array 2D e altera o \n",
    "array espelhado-o horizontalmente, ou seja, as colunas à esquerda \n",
    "são trocadas com as da direita.\n",
    "\n",
    "```python\n",
    "    import numpy as np\n",
    "    def main():\n",
    "        a = np.array( [1,2,3,4,5,6,7,8,9,0] ).reshape(2,5)\n",
    "        print(a)\n",
    "        fliplr(a)\n",
    "        print(a)\n",
    "    main()\n",
    "\n",
    "    Saída:\n",
    "    [[1 2 3 4 5]\n",
    "     [6 7 8 9 0]]\n",
    "    [[5 4 3 2 1]\n",
    "     [0 9 8 7 6]]\n",
    "\n",
    "```"
   ]
  },
  {
   "cell_type": "code",
   "execution_count": null,
   "metadata": {},
   "outputs": [],
   "source": [
    "import numpy as np"
   ]
  },
  {
   "cell_type": "code",
   "execution_count": null,
   "metadata": {},
   "outputs": [],
   "source": [
    "def main():\n",
    "    a = np.array( [1,2,3,4,5,6,7,8,9,0] ).reshape(2,5)\n",
    "    print(a)\n",
    "    fliplr(a)\n",
    "    print(a)"
   ]
  },
  {
   "cell_type": "code",
   "execution_count": null,
   "metadata": {},
   "outputs": [],
   "source": [
    "```python\n",
    "[[1 2 3 4 5]\n",
    " [6 7 8 9 0]]\n",
    "[[5 4 3 2 1]\n",
    " [0 9 8 7 6]]\n",
    "```"
   ]
  },
  {
   "cell_type": "code",
   "execution_count": null,
   "metadata": {},
   "outputs": [],
   "source": [
    "\n",
    "def fliplr( ar ):\n",
    "    ''' (array) -> array \n",
    "    espelha as colunas.\n",
    "    '''\n",
    "    nlin, ncol = ar.shape\n",
    "    meio = ncol // 2\n",
    "\n",
    "    for i in range(meio):\n",
    "        fim = ncol-1-i\n",
    "        temp = ar[:,i].copy()  ## lembre-se que fatias são vistas!\n",
    "        ar[:,i] = ar[:,fim]\n",
    "        ar[:,fim] = temp\n",
    "main()"
   ]
  }
 ],
 "metadata": {
  "kernelspec": {
   "display_name": "Python 3",
   "language": "python",
   "name": "python3"
  },
  "language_info": {
   "codemirror_mode": {
    "name": "ipython",
    "version": 3
   },
   "file_extension": ".py",
   "mimetype": "text/x-python",
   "name": "python",
   "nbconvert_exporter": "python",
   "pygments_lexer": "ipython3",
   "version": "3.6.7"
  }
 },
 "nbformat": 4,
 "nbformat_minor": 2
}
