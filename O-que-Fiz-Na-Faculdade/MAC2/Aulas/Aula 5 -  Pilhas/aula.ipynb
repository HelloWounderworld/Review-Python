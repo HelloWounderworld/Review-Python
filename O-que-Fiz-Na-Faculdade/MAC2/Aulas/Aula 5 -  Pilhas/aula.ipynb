{
 "cells": [
  {
   "cell_type": "markdown",
   "metadata": {
    "slideshow": {
     "slide_type": "slide"
    }
   },
   "source": [
    "# Aula 05 "
   ]
  },
  {
   "cell_type": "markdown",
   "metadata": {
    "slideshow": {
     "slide_type": "subslide"
    }
   },
   "source": [
    "## Exercício de motivação\n",
    "\n",
    "Dada uma string com parênteses, colchetes e chaves decidir se está bem-formada.\n",
    "\n",
    "Uma string de parênteses, colchetes e chaves é **bem-formada** se\n",
    "os parênteses, colchetes e chaves são fechados na ordem\n",
    "inversa àquela em que foram abertos.\n",
    "\n",
    "Por exemplo, a primeira das sequências abaixo\n",
    "está bem-formada enquanto a segunda não está:\n",
    "\n",
    "```\n",
    "( () [ ( { } ) ] {} )\n",
    "\n",
    "( [ ) ]\n",
    "```"
   ]
  },
  {
   "cell_type": "code",
   "execution_count": null,
   "metadata": {
    "slideshow": {
     "slide_type": "subslide"
    }
   },
   "outputs": [],
   "source": [
    "# Rascunho"
   ]
  },
  {
   "cell_type": "markdown",
   "metadata": {
    "slideshow": {
     "slide_type": "slide"
    }
   },
   "source": [
    "## Pilhas"
   ]
  },
  {
   "cell_type": "markdown",
   "metadata": {
    "slideshow": {
     "slide_type": "slide"
    }
   },
   "source": [
    "Uma **pilha** (=*stack*) é uma lista dinâmica em que todas as\n",
    "operações:\n",
    "\n",
    "+ inserções;\n",
    "+ remoções; e\n",
    "+ consultas\n",
    "\n",
    "são feitas em uma mesma extremidade chamada de **topo**.\n",
    "\n",
    "```\n",
    "  empilha --->---+       +-->----> desempilha\n",
    "  (=push)        |       |         (=pop)  \n",
    "                 V       |\n",
    "               +-----------+\n",
    "               | vvvvvvvvv |\n",
    "               +-----------+\n",
    "               | wwwwwwwww |\n",
    "               +-----------+\n",
    "               | zzzzzzzzz |\n",
    "               +-----------+\n",
    "               | yyyyyyyyy |\n",
    "               +-----------+\n",
    "               | xxxxxxxxx |\n",
    "               +-----------+\n",
    "```"
   ]
  },
  {
   "cell_type": "code",
   "execution_count": null,
   "metadata": {},
   "outputs": [],
   "source": [
    "# Rascunho: como resolver usando uma pilha?"
   ]
  },
  {
   "cell_type": "code",
   "execution_count": null,
   "metadata": {},
   "outputs": [],
   "source": [
    "#from stack import Stack\n",
    "\n",
    "PROMPT = \">>> \"\n",
    "ABRES  = \"([{\"\n",
    "FECHAS = \")]}\"\n",
    "DICIO  = {')' : '(', ']' : '[', '}' : '{'}\n",
    "QUIT = ''"
   ]
  },
  {
   "cell_type": "code",
   "execution_count": null,
   "metadata": {},
   "outputs": [],
   "source": [
    "def main():\n",
    "    '''\n",
    "    Recebe uma sequência formada apenas por parênteses e\n",
    "    colchetes e verifica se é bem formada.\n",
    "    '''\n",
    "    print(\"Verificador de sequencias bem formadas.\")\n",
    "    print(\"[Tecle ENTER para encerrar o programa.]\")    \n",
    "    sequencia = input(PROMPT).strip()\n",
    "    while sequencia != QUIT:\n",
    "        if bem_formada(sequencia):\n",
    "            print(\"bem-formada: sim\")\n",
    "        else:\n",
    "            print(\"bem_formada: não\")\n",
    "        sequencia = input(PROMPT).strip()"
   ]
  },
  {
   "cell_type": "code",
   "execution_count": null,
   "metadata": {},
   "outputs": [],
   "source": [
    "#-------------------------------------------------------        \n",
    "def bem_formada(sequencia):\n",
    "    ''' (str) -> bool\n",
    "\n",
    "    Recebe um string contendo uma sequencia de parênteses,\n",
    "    chaves e colchetes e retorna TRUE se a sequência é bem \n",
    "    formada e false em caso contrário.\n",
    "    '''\n",
    "    pilha = Stack()\n",
    "    for item in sequencia:\n",
    "        if item in ABRES:\n",
    "            pilha.push(item)\n",
    "        elif item in FECHAS:\n",
    "            if pilha.isEmpty():\n",
    "                return False\n",
    "            # verifique se o topo da pilha tem o abre certo\n",
    "            item_topo = pilha.pop()\n",
    "            if   item_topo != DICIO[item]:\n",
    "                return False\n",
    "            \n",
    "    if not pilha.isEmpty():\n",
    "        return False\n",
    "\n",
    "    # passou pelos testes\n",
    "    return True"
   ]
  },
  {
   "cell_type": "code",
   "execution_count": null,
   "metadata": {},
   "outputs": [],
   "source": [
    "#--------------------------------------------\n",
    "if __name__ == \"__main__\":\n",
    "    main()"
   ]
  },
  {
   "cell_type": "markdown",
   "metadata": {},
   "source": [
    "## Classe Stack\n"
   ]
  },
  {
   "cell_type": "code",
   "execution_count": null,
   "metadata": {},
   "outputs": [],
   "source": [
    "## código da classe Stack"
   ]
  },
  {
   "cell_type": "code",
   "execution_count": null,
   "metadata": {},
   "outputs": [],
   "source": [
    "class Stack:\n",
    "    #-----------------------------------------------------\n",
    "    def __init__(self):\n",
    "        '''(Pilha) -> None\n",
    "\n",
    "        Usado pelo construtor da classe.\n",
    "\n",
    "        Monta um objeto da classe Pilha.\n",
    "        '''\n",
    "        self.itens = []\n",
    "\n",
    "    #-----------------------------------------------------        \n",
    "    def __str__(self):\n",
    "        '''(Pilha) -> str\n",
    "\n",
    "        Recebe uma Pilha referenciada por `self` e constroi e \n",
    "        retorna o string exibido por print() para imprimir uma \n",
    "        pilha. Esse também é o string retornado por str().\n",
    "        '''\n",
    "        return str(self.itens)\n",
    "\n",
    "    #-----------------------------------------------------\n",
    "    def __len__(self):\n",
    "        '''(Pilha) -> int\n",
    "\n",
    "        Recebe uma Pilha referenciada por self e retorna\n",
    "        o número de itens na pilha.\n",
    "\n",
    "        Usado pelo Python quando escrevemos len(Pilha).\n",
    "        '''\n",
    "        return len(self.itens)\n",
    "\n",
    "    #-----------------------------------------------------    \n",
    "    def isEmpty(self):\n",
    "        '''(Pilha) -> bool\n",
    "\n",
    "        Recebe uma Pilha referenciada por self e retorna \n",
    "        True se ela está vazia e False em caso contrário.\n",
    "        '''\n",
    "        return self.itens == []\n",
    "\n",
    "    #-----------------------------------------------------    \n",
    "    def push(self, item):\n",
    "        '''(Pilha, objeto) -> None\n",
    "\n",
    "        Recebe uma Pilha referenciada por self e um objeto \n",
    "        item e coloca item no topo da pilha.\n",
    "        ''' \n",
    "        self.itens.append(item)\n",
    "\n",
    "    #-----------------------------------------------------        \n",
    "    def pop(self):\n",
    "        '''(Pilha) -> objeto\n",
    "\n",
    "        Recebe uma Pilha referenciada por self e desempilha \n",
    "        e retorna o objeto no topo da pilha.\n",
    "        '''\n",
    "        return self.itens.pop()\n",
    "\n",
    "    #-----------------------------------------------------    \n",
    "    def peek(self):\n",
    "        '''(Pilha) -> objeto \n",
    "\n",
    "        Recebe uma Pilha referenciada por self e retorna\n",
    "        o objeto no topo da pilha. O objeto não é removido \n",
    "        da pilha.\n",
    "        '''\n",
    "        return self.itens[-1]\n"
   ]
  },
  {
   "cell_type": "markdown",
   "metadata": {},
   "source": [
    "## Exercício\n",
    "\n",
    "Dado um número inteiro representado na base 10 exibir a sua representação na base 2.\n"
   ]
  },
  {
   "cell_type": "markdown",
   "metadata": {},
   "source": [
    "### Representação de números\n",
    "\n",
    "Na **base decimal** são usados apenas os dígitos $0,1,\\ldots,9$:\n",
    "\n",
    "- $1_{10} = 1 \\times 10^0$\n",
    "- $2_{10} = 1 \\times 10^0$\n",
    "- $3_{10} = 1 \\times 10^0$\n",
    "- $9_{10} = 9 \\times 10^0$\n",
    "- $89_{10} = 8 \\times 10^1$ \n",
    "- $1234_{10} = 1 \\times 10^3 + 2 \\times 10^2 + 3 \\times 10^3 + 4 \\times 10^0$\n",
    "\n",
    "Na **base binária** são usados apenas os dígitos 0 e 1:\n",
    "\n",
    "- $1_{2} = 1 \\times 2^0$\n",
    "- $10_{2} = 1 \\times 2^1 + 0 \\times 2^0$\n",
    "- $11_{2} = 1 \\times 2^1 + 1 \\times 2^0$\n",
    "- $1001_{2} = 1 \\times 2^3 + 0 \\times 2^2 + 0 \\times 2^1 + 1 \\times 2^0$\n",
    "- $1011001_{2} = 1 \\times 2^6 + 0 \\times 2^5 + 1 \\times 2^4 + 1 \\times 2^3 + 0 \\times 2^2 + 0 \\times 2^1 + 1 \\times 2^0$ \n",
    "- $10011010010_{2} = 1 \\times 10^{11} + 0 \\times 10^{12} + \\cdots$\n",
    "\n",
    "### Algoritmo\n",
    "```\n",
    "233 | 2\n",
    "----+----\n",
    "  1 | 166 | 2                                          1  <-- base\n",
    "      ----+----\n",
    "        0 |  58 | 2                                    0\n",
    "            ----+----\n",
    "              0 |  29 | 2                              0\n",
    "                  ----+----\n",
    "                    1 |  14 | 2                        1\n",
    "                        ----+---- \n",
    "                          0 |   7 | 2                  0\n",
    "                              ----+----\n",
    "                                1 |   3 | 2            1\n",
    "                                    ----+----\n",
    "                                      1 |   1 | 2      1\n",
    "                                          ----+----    \n",
    "                                            1 | 0      1   <-- topo\n",
    "\n",
    "233 = 11101001\n",
    "```\n"
   ]
  },
  {
   "cell_type": "code",
   "execution_count": null,
   "metadata": {},
   "outputs": [],
   "source": [
    "# solução"
   ]
  },
  {
   "cell_type": "code",
   "execution_count": null,
   "metadata": {},
   "outputs": [],
   "source": [
    "#\n",
    "# Conversor de número decimais para binarios\n",
    "# usando push() e pop() de lista \n",
    "# \n",
    "\n",
    "PROMPT = \"base 10 >>> \"\n",
    "QUIT = ''\n",
    "\n",
    "def main():\n",
    "    '''\n",
    "    Recebe uma string e verifica se a substring formada apenas dos\n",
    "    parênteses, colchetes e chaves da string é bem formada.\n",
    "    '''\n",
    "    print(\"Conversor de decimal para binário.\")\n",
    "    print(\"[Tecle ENTER para encerrar o programa.]\")\n",
    "\n",
    "    decimal_str = input(PROMPT)\n",
    "    while decimal_str != QUIT:\n",
    "        decimal = int(decimal_str)\n",
    "        print(\"base 2:    \", to_string2(decimal))\n",
    "        decimal_str = input(PROMPT)"
   ]
  },
  {
   "cell_type": "code",
   "execution_count": null,
   "metadata": {},
   "outputs": [],
   "source": [
    "#-------------------------------------------------------        \n",
    "def to_string2(dec):\n",
    "    ''' (int) -> str\n",
    "\n",
    "    Recebe um número inteiro e retorna uma string que representa\n",
    "    o número na base 2.\n",
    "    '''\n",
    "    if dec == 0: return '0'\n",
    "    bin_str = ''\n",
    "    pilha = []\n",
    "    negativo = False\n",
    "    if dec < 0:\n",
    "        negativo = True\n",
    "        dec = -dec\n",
    "\n",
    "    # determine os dígitos de dec na base 2    \n",
    "    while dec > 0:\n",
    "        dig_2 = dec % 2\n",
    "        pilha.push(dig_2)\n",
    "        dec //= 2\n",
    "\n",
    "    # converta os dígitos para str\n",
    "    while pilha != []:\n",
    "        dig_str  = str(pilha.pop())\n",
    "        bin_str += dig_str\n",
    "\n",
    "    if negativo: bin_str = \"-\" + bin_str\n",
    "    return bin_str"
   ]
  },
  {
   "cell_type": "code",
   "execution_count": null,
   "metadata": {},
   "outputs": [],
   "source": [
    "#--------------------------------------------\n",
    "if __name__ == \"__main__\":\n",
    "    main()      "
   ]
  }
 ],
 "metadata": {
  "kernelspec": {
   "display_name": "Python-with-Pixiedust_Spark-2.4",
   "language": "python",
   "name": "pythonwithpixiedustspark24"
  },
  "language_info": {
   "codemirror_mode": {
    "name": "ipython",
    "version": 3
   },
   "file_extension": ".py",
   "mimetype": "text/x-python",
   "name": "python",
   "nbconvert_exporter": "python",
   "pygments_lexer": "ipython3",
   "version": "3.6.7"
  }
 },
 "nbformat": 4,
 "nbformat_minor": 2
}
