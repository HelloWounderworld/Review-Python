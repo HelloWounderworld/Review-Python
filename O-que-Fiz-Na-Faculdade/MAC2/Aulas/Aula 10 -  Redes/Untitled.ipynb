{
 "cells": [
  {
   "cell_type": "markdown",
   "metadata": {},
   "source": [
    "# Distâncias\n",
    "\n",
    "Considere ``n`` cidades numeradas de 0 a ``n-1`` interligadas por\n",
    "estradas de mão única.\n",
    "\n",
    "O **comprimento** de um caminho é o número de estradas no caminho.\n",
    "\n",
    "A **distância** de uma cidade ``i`` a uma cidade ``j`` é o menor\n",
    "comprimento de um caminho de ``i`` a ``j``. Se não existe caminho\n",
    "de ``i`` a ``j`` a distância é *infinita*.\n",
    "\n",
    "**Problema**: dada uma rede de estradas e uma cidade ``c``, determinar\n",
    "a distância de ``c`` a cada uma das demais cidades.\n",
    "\n",
    "\n",
    "## Desenvolvendo uma solução para problemas complexos\n",
    "\n",
    "É um processo não linear e iterativo. \n",
    "\n",
    "* 1o passo: Entender o problema: o que tenho, onde estou, onde preciso chegar?\n",
    "    * Procure construir um exemplo simples, mas complexo o suficiente, ilustrando esses dados e sua representação\n",
    "        * a representação e abstração de dados tem grande impacto sobre a solução (e sua qualidade)\n",
    "    * Qual a entrada: que informação é recebida?\n",
    "        * Pense em como representar cada item da informação recebida (tipo, valor)\n",
    "    * Qual a saída: que informação é retornada?\n",
    "        * retornada, ou impressa, ou mostrada, ou gravada, ...\n"
   ]
  },
  {
   "cell_type": "markdown",
   "metadata": {},
   "source": [
    "\n",
    "* 2o passo: Crie e explore alternativas para transformar a entrada na saída\n",
    "    * que temos de informação para começar? \n",
    "    * Como usar o que temos para dar um passo na direção de onde precisamos chegar?\n",
    "        * Preciso guardar alguma informação para usar nos passos seguintes?\n",
    "        * Como dar o passo seguinte?\n"
   ]
  },
  {
   "cell_type": "markdown",
   "metadata": {},
   "source": [
    "* 3o passo: Decida qual alternativa implementar\n",
    "    * a melhor alternativa, segundo algum critério razoável. "
   ]
  },
  {
   "cell_type": "markdown",
   "metadata": {},
   "source": [
    "* 4o passo: Implemente\n",
    "    * tem gente que começa por aqui :-)"
   ]
  },
  {
   "cell_type": "markdown",
   "metadata": {},
   "source": [
    "* 5o passo: Teste\n",
    "    * tem gente que não testa :-)\n",
    "    * se os testes revelarem problemas, voltamos a um dos passos anteriores, talvez, inclusive, o 1o passo."
   ]
  },
  {
   "cell_type": "code",
   "execution_count": null,
   "metadata": {},
   "outputs": [],
   "source": [
    "#----------------------------------------------------------\n",
    "def distancias(c, rede):\n",
    "    '''(int, array) -> list ou array \n",
    "\n",
    "    Recebe o índice c de uma cidade e uma rede de estradas\n",
    "    com n cidades através de um array adj.\n",
    "    \n",
    "    A função cria e retorna uma lista d[0:n] tal que para \n",
    "    i = 0,...,n-1, d[i] é a distância da cidade c a cidade i.\n",
    "\n",
    "    Se não existe caminho da cidade c a cidade i então d[i]=n.\n",
    "    '''\n",
    "    # pegue o número de cidades da rede\n",
    "    n = len(rede)\n",
    "\n",
    "    # crie o vetor de distancia com 'infinito' em cada posição\n",
    "    d = n*[n] # pode ser array d = np.full(n, n)\n",
    "\n",
    "    # a distancia da origem a si mesma e zero\n",
    "    d[c] = 0\n",
    "\n",
    "    # crie a fila de cidades\n",
    "    q = Queue()\n",
    "\n",
    "    # coloque a cidade origem na fila\n",
    "    q.enqueue(c)\n",
    "\n",
    "    while not q.isEmpty():\n",
    "        # i será o 1a. cidade na fila\n",
    "        i = q.dequeue()\n",
    "\n",
    "        # examine as cidades vizinhas da cidade i\n",
    "        for j in range(n):\n",
    "            if rede[i, j] and d[j] > d[i]+1: # ou d[j] != n\n",
    "                d[j] = d[i] + 1\n",
    "                q.enqueue(j)\n",
    "    return d"
   ]
  },
  {
   "cell_type": "markdown",
   "metadata": {},
   "source": [
    "Queue\n",
    "-----\n",
    "\n",
    "Uma **fila** (do inglês *queue*) é uma lista dinâmica em que todas\n",
    "as inserções são feitas em uma extremidade chamada de **fim**\n",
    "e todas as remoções são feitas na outra extremidade chamada de\n",
    "**início**.\n",
    "\n",
    "A implementação abaixo usa uma lista em que as inserções são no início\n",
    "`insert(0, item)`e as remoções são do final (`pop()`).\n"
   ]
  }
 ],
 "metadata": {
  "kernelspec": {
   "display_name": "Python 3",
   "language": "python",
   "name": "python3"
  },
  "language_info": {
   "codemirror_mode": {
    "name": "ipython",
    "version": 3
   },
   "file_extension": ".py",
   "mimetype": "text/x-python",
   "name": "python",
   "nbconvert_exporter": "python",
   "pygments_lexer": "ipython3",
   "version": "3.6.7"
  }
 },
 "nbformat": 4,
 "nbformat_minor": 2
}
