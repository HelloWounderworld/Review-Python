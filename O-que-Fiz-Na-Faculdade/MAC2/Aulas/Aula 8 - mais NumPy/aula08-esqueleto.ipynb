{
 "cells": [
  {
   "cell_type": "markdown",
   "metadata": {},
   "source": [
    "# Exercício\n",
    "\n",
    "Qual o comportamento geral dos 4 operadores básicos com arrays?"
   ]
  },
  {
   "cell_type": "code",
   "execution_count": null,
   "metadata": {},
   "outputs": [],
   "source": [
    "import numpy as np"
   ]
  },
  {
   "cell_type": "code",
   "execution_count": null,
   "metadata": {},
   "outputs": [],
   "source": []
  },
  {
   "cell_type": "code",
   "execution_count": null,
   "metadata": {},
   "outputs": [],
   "source": [
    "def reshape(self, newshape):\n",
    "    ''' (Array2d, shape) => vista '''"
   ]
  },
  {
   "cell_type": "code",
   "execution_count": null,
   "metadata": {},
   "outputs": [],
   "source": [
    "# Exercício\n",
    "\n",
    "Escreva agora o método copy(), que retorna o clone de um Array2D (os dados são clonados, não há compartilhamento de dados).\n",
    "\n",
    "``` python\n",
    "    >>> a = Array2D( (2,3), 1)\n",
    "    >>> print(a)\n",
    "    1 1 1\n",
    "    1 1 1\n",
    "    >>> b = a.reshape(3,2)\n",
    "    >>> print(b)\n",
    "    1 1\n",
    "    1 1\n",
    "    1 1\n",
    "    >>> c = b.reshape(1,6).copy()\n",
    "    >>> print(c)\n",
    "    1 1 1 1 1 1\n",
    "    >>> c.data[2] = 0\n",
    "    >>> print(b)\n",
    "    1 1\n",
    "    1 1\n",
    "    1 1\n",
    "    >>> b.data[2] = 0\n",
    "    >>> print(a)\n",
    "    1 1 0\n",
    "    1 1 1\n",
    "```\n"
   ]
  }
 ],
 "metadata": {
  "kernelspec": {
   "display_name": "Python 3",
   "language": "python",
   "name": "python3"
  },
  "language_info": {
   "codemirror_mode": {
    "name": "ipython",
    "version": 3
   },
   "file_extension": ".py",
   "mimetype": "text/x-python",
   "name": "python",
   "nbconvert_exporter": "python",
   "pygments_lexer": "ipython3",
   "version": "3.6.7"
  }
 },
 "nbformat": 4,
 "nbformat_minor": 2
}
