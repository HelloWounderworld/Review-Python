{
 "cells": [
  {
   "cell_type": "markdown",
   "metadata": {},
   "source": [
    "# Exercício\n",
    "\n",
    "Qual o comportamento geral dos 4 operadores básicos com arrays?"
   ]
  },
  {
   "cell_type": "code",
   "execution_count": null,
   "metadata": {},
   "outputs": [],
   "source": [
    "import numpy as np"
   ]
  },
  {
   "cell_type": "code",
   "execution_count": null,
   "metadata": {},
   "outputs": [],
   "source": []
  },
  {
   "cell_type": "markdown",
   "metadata": {},
   "source": [
    "# Exercício\n",
    "\n",
    "Usando a Classe Array2D da aula passada, escreva o método reshape( newshape ), que retorna uma vista dos mesmos dados com um novo shape.\n",
    "\n",
    "``` python\n",
    "    >>> a = Array2D( (2,3), 1)\n",
    "    >>> print(a)\n",
    "    1 1 1\n",
    "    1 1 1\n",
    "    >>> b = a.reshape(3,2)\n",
    "    >>> print(b)\n",
    "    1 1\n",
    "    1 1\n",
    "    1 1\n",
    "    >>> b.data[2] = 0\n",
    "    >>> print(a)\n",
    "    1 1 0\n",
    "    1 1 1\n",
    "```\n"
   ]
  },
  {
   "cell_type": "code",
   "execution_count": null,
   "metadata": {},
   "outputs": [],
   "source": [
    "def reshape(self, newshape):\n",
    "    ''' (Array2d, shape) => vista '''"
   ]
  },
  {
   "cell_type": "code",
   "execution_count": null,
   "metadata": {},
   "outputs": [],
   "source": [
    "# Exercício\n",
    "\n",
    "Escreva agora o método copy(), que retorna o clone de um Array2D (os dados são clonados, não há compartilhamento de dados).\n",
    "\n",
    "``` python\n",
    "    >>> a = Array2D( (2,3), 1)\n",
    "    >>> print(a)\n",
    "    1 1 1\n",
    "    1 1 1\n",
    "    >>> b = a.reshape(3,2)\n",
    "    >>> print(b)\n",
    "    1 1\n",
    "    1 1\n",
    "    1 1\n",
    "    >>> c = b.reshape(1,6).copy()\n",
    "    >>> print(c)\n",
    "    1 1 1 1 1 1\n",
    "    >>> c.data[2] = 0\n",
    "    >>> print(b)\n",
    "    1 1\n",
    "    1 1\n",
    "    1 1\n",
    "    >>> b.data[2] = 0\n",
    "    >>> print(a)\n",
    "    1 1 0\n",
    "    1 1 1\n",
    "```\n"
   ]
  },
  {
   "cell_type": "code",
   "execution_count": null,
   "metadata": {},
   "outputs": [],
   "source": [
    "def copy(self):\n",
    "    ''' (Array2D) -> Array2D '''\n",
    "    "
   ]
  },
  {
   "cell_type": "markdown",
   "metadata": {},
   "source": [
    "# Exercício\n",
    "\n",
    "Escreva uma função `fliplr` que recebe um array 2D e altera o \n",
    "array espelhado-o horizontalmente, ou seja, as colunas à esquerda \n",
    "são trocadas com as da direita.\n",
    "\n",
    "```python\n",
    "    import numpy as np\n",
    "    def main():\n",
    "        a = np.array( [1,2,3,4,5,6,7,8,9,0] ).reshape(2,5)\n",
    "        print(a)\n",
    "        fliplr(a)\n",
    "        print(a)\n",
    "    main()\n",
    "\n",
    "    Saída:\n",
    "    [[1 2 3 4 5]\n",
    "     [6 7 8 9 0]]\n",
    "    [[5 4 3 2 1]\n",
    "     [0 9 8 7 6]]\n",
    "\n",
    "```"
   ]
  },
  {
   "cell_type": "code",
   "execution_count": null,
   "metadata": {},
   "outputs": [],
   "source": [
    "def fliplr( a ):\n",
    "    ''' (array) -> array '''\n",
    "    "
   ]
  }
 ],
 "metadata": {
  "kernelspec": {
   "display_name": "Python 3",
   "language": "python",
   "name": "python3"
  },
  "language_info": {
   "codemirror_mode": {
    "name": "ipython",
    "version": 3
   },
   "file_extension": ".py",
   "mimetype": "text/x-python",
   "name": "python",
   "nbconvert_exporter": "python",
   "pygments_lexer": "ipython3",
   "version": "3.6.7"
  }
 },
 "nbformat": 4,
 "nbformat_minor": 2
}
