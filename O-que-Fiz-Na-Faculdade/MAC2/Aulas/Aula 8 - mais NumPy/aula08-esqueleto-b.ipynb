{
 "cells": [
  {
   "cell_type": "markdown",
   "metadata": {},
   "source": [
    "# Exercício\n",
    "\n",
    "Usando a Classe Array2D da aula passada, escreva o método reshape( newshape ), que retorna uma vista dos mesmos dados com um novo shape.\n",
    "\n",
    "``` python\n",
    "    >>> a = Array2D( (2,3), 1)\n",
    "    >>> print(a)\n",
    "    1 1 1\n",
    "    1 1 1\n",
    "    >>> b = a.reshape(3,2)\n",
    "    >>> print(b)\n",
    "    1 1\n",
    "    1 1\n",
    "    1 1\n",
    "    >>> b.data[2] = 0\n",
    "    >>> print(a)\n",
    "    1 1 0\n",
    "    1 1 1\n",
    "```\n"
   ]
  },
  {
   "cell_type": "code",
   "execution_count": null,
   "metadata": {},
   "outputs": [],
   "source": []
  },
  {
   "cell_type": "code",
   "execution_count": null,
   "metadata": {},
   "outputs": [],
   "source": []
  }
 ],
 "metadata": {
  "kernelspec": {
   "display_name": "Python 3",
   "language": "python",
   "name": "python3"
  },
  "language_info": {
   "codemirror_mode": {
    "name": "ipython",
    "version": 3
   },
   "file_extension": ".py",
   "mimetype": "text/x-python",
   "name": "python",
   "nbconvert_exporter": "python",
   "pygments_lexer": "ipython3",
   "version": "3.6.7"
  }
 },
 "nbformat": 4,
 "nbformat_minor": 2
}
